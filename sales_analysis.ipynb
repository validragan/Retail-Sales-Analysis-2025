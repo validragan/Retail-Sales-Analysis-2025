{
 "cells": [
  {
   "cell_type": "markdown",
   "id": "9704dcf9",
   "metadata": {},
   "source": [
    "# Retail Sales Analysis 2025\n",
    "\n",
    "This notebook analyzes a small retail transactions dataset and produces:\n",
    "1) Top products by total sales\n",
    "2) Monthly sales trend\n",
    "\n",
    "**Stack**: Python, Pandas, Matplotlib.\n",
    "Dataset path: `data/sales.csv`"
   ]
  },
  {
   "cell_type": "code",
   "execution_count": null,
   "id": "87bbd370",
   "metadata": {},
   "outputs": [],
   "source": [
    "import pandas as pd\n",
    "import matplotlib.pyplot as plt\n",
    "from pathlib import Path\n",
    "\n",
    "# Always display all columns for exploration\n",
    "pd.set_option('display.max_columns', None)\n"
   ]
  },
  {
   "cell_type": "code",
   "execution_count": null,
   "id": "6927a4c4",
   "metadata": {},
   "outputs": [],
   "source": [
    "# Load dataset\n",
    "DATA_PATH = Path('..') / 'data' / 'sales.csv'  # relative to this notebook\n",
    "df = pd.read_csv(DATA_PATH)\n",
    "print(\"Shape:\", df.shape)\n",
    "df.head()"
   ]
  },
  {
   "cell_type": "markdown",
   "id": "dc7af7e8",
   "metadata": {},
   "source": [
    "## Basic Data Cleaning"
   ]
  },
  {
   "cell_type": "code",
   "execution_count": null,
   "id": "a020d82c",
   "metadata": {},
   "outputs": [],
   "source": [
    "# Ensure expected columns exist\n",
    "expected_cols = {'TransactionID','Product','Month','Quantity','Price','Total'}\n",
    "missing = expected_cols - set(df.columns)\n",
    "if missing:\n",
    "    raise ValueError(f\"Missing columns: {missing}\")\n",
    "\n",
    "# Drop duplicates, if any\n",
    "df = df.drop_duplicates(subset=['TransactionID'])\n",
    "\n",
    "# Sanity checks\n",
    "assert (df['Quantity'] > 0).all(), \"Quantity must be positive\"\n",
    "assert (df['Price'] > 0).all(), \"Price must be positive\"\n",
    "df.describe(include='all')"
   ]
  },
  {
   "cell_type": "markdown",
   "id": "b8892d0e",
   "metadata": {},
   "source": [
    "## Top 10 Products by Total Sales"
   ]
  },
  {
   "cell_type": "code",
   "execution_count": null,
   "id": "c17ae097",
   "metadata": {},
   "outputs": [],
   "source": [
    "product_sales = df.groupby('Product')['Total'].sum().sort_values(ascending=False)\n",
    "top10 = product_sales.head(10)\n",
    "top10"
   ]
  },
  {
   "cell_type": "code",
   "execution_count": null,
   "id": "05155667",
   "metadata": {},
   "outputs": [],
   "source": [
    "plt.figure(figsize=(10,5))\n",
    "top10.plot(kind='bar')\n",
    "plt.title('Top 10 Products by Total Sales')\n",
    "plt.ylabel('Total Sales')\n",
    "plt.xlabel('Product')\n",
    "plt.xticks(rotation=45, ha='right')\n",
    "plt.tight_layout()\n",
    "# Save figure\n",
    "out_path = Path('..') / 'dashboard' / 'sales_top10.png'\n",
    "plt.savefig(out_path)\n",
    "plt.show()\n",
    "print('Saved:', out_path)"
   ]
  },
  {
   "cell_type": "markdown",
   "id": "66cb0365",
   "metadata": {},
   "source": [
    "## Monthly Sales Trend"
   ]
  },
  {
   "cell_type": "code",
   "execution_count": null,
   "id": "8831fc4c",
   "metadata": {},
   "outputs": [],
   "source": [
    "monthly = df.groupby('Month')['Total'].sum().sort_index()\n",
    "monthly"
   ]
  },
  {
   "cell_type": "code",
   "execution_count": null,
   "id": "c0d9df69",
   "metadata": {},
   "outputs": [],
   "source": [
    "plt.figure(figsize=(10,5))\n",
    "monthly.plot(kind='line', marker='o')\n",
    "plt.title('Monthly Sales Trend')\n",
    "plt.ylabel('Total Sales')\n",
    "plt.xlabel('Month')\n",
    "plt.xticks(range(1,13))\n",
    "plt.grid(True)\n",
    "plt.tight_layout()\n",
    "# Save figure\n",
    "out_path2 = Path('..') / 'dashboard' / 'sales_trends.png'\n",
    "plt.savefig(out_path2)\n",
    "plt.show()\n",
    "print('Saved:', out_path2)"
   ]
  },
  {
   "cell_type": "markdown",
   "id": "af904899",
   "metadata": {},
   "source": [
    "## Quick Insights"
   ]
  },
  {
   "cell_type": "code",
   "execution_count": null,
   "id": "bb94b9d2",
   "metadata": {},
   "outputs": [],
   "source": [
    "best_product = product_sales.idxmax()\n",
    "best_product_value = product_sales.max()\n",
    "best_month = monthly.idxmax()\n",
    "best_month_value = monthly.max()\n",
    "\n",
    "print(f\"Best-selling product: {best_product} with total sales of {best_product_value:.2f}\")\n",
    "print(f\"Peak month: {best_month} with total sales of {best_month_value:.2f}\")"
   ]
  }
 ],
 "metadata": {},
 "nbformat": 4,
 "nbformat_minor": 5
}
